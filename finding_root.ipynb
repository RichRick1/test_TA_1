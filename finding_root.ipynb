{
 "cells": [
  {
   "cell_type": "markdown",
   "metadata": {},
   "source": [
    "## Finding the Root (Zero) of a Function"
   ]
  },
  {
   "cell_type": "markdown",
   "metadata": {},
   "source": [
    "Finding the root, or zero, of a function is a very common task in exploratory computing. This Notebook presents the Bisection method and Newton's method for finding the root, or 0, of a function. "
   ]
  },
  {
   "cell_type": "code",
   "execution_count": 34,
   "metadata": {},
   "outputs": [],
   "source": [
    "import numpy as np\n",
    "import matplotlib.pyplot as plt\n",
    "%matplotlib inline"
   ]
  },
  {
   "cell_type": "code",
   "execution_count": 35,
   "metadata": {},
   "outputs": [
    {
     "data": {
      "text/plain": [
       "[<matplotlib.lines.Line2D at 0x273cfcefa90>]"
      ]
     },
     "execution_count": 35,
     "metadata": {},
     "output_type": "execute_result"
    },
    {
     "data": {
      "image/png": "[encoded data removed]",
      "text/plain": [
       "<Figure size 432x288 with 1 Axes>"
      ]
     },
     "metadata": {
      "needs_background": "light"
     },
     "output_type": "display_data"
    }
   ],
   "source": [
    "def f(x):\n",
    "    return x**3\n",
    "\n",
    "x = np.linspace(-2, 2, 100)\n",
    "y = f(x)\n",
    "plt.axhline(0, ls='--', c='r')\n",
    "plt.plot(x, y)"
   ]
  },
  {
   "cell_type": "markdown",
   "metadata": {},
   "source": [
    "### Bisection method\n",
    "Given a continuous function $f(x)$ and two values of $x_1$, $x_2$ such that $f(x_1)$ and $f(x_2)$ have opposite signs the Bisection method is a root-finding method that repeatedly bisects the interval $[x_1, x_2]$ and then selects a subinterval (in which a root must be) for further processing. (Since $f(x_1)$ and $f(x_2)$ have opposite signs, it follows that $f(x)$ is zero somewhere between $x_1$ and $x_2$.) The Bisection method iterate towards the zero of the function by cutting the root search interval in half at every iteration. The method calculates the middle point $x_m$ between $x_1$ and $x_2$ and compute $f(x_m)$ and then replaces either $x_1$ or $x_2$ by $x_m$ such the values of $f$ at the end points of the interval are of opposite signs. The process is repeated until the interval is small enough that its middle point can be considered a good approximation of the root of the function. In summary, the algorithm works as follows:\n",
    "\n",
    "1. Compute $f(x_1)$ and $f(x_2)$ \n",
    "2. Compute $x_m = \\frac{1}{2}(x_1 + x_2)$.\n",
    "3. Compute $f(x_m)$.\n",
    "4. If $f(x_m)f(x_2) < 0$, replace $x_1$ by $x_m$, otherwise, replace $x_2$ by $x_m$.\n",
    "5. If $|x_1 - x_2|<\\varepsilon$, where $\\varepsilon$ is a user-specified tolerance, return $\\frac{1}{2}(x_1 + x_2)$, otherwise return to step 2."
   ]
  },
  {
   "cell_type": "markdown",
   "metadata": {},
   "source": [
    "Example: let $f(x)$ be $\\frac{1}{2}-\\text{e}^{-x}$ and $x_1$  and $x_2$ be 0 and 4, respectively. Notice that $f(x)$ has a zero somewhere on the plotted interval."
   ]
  },
  {
   "cell_type": "code",
   "execution_count": 36,
   "metadata": {},
   "outputs": [
    {
     "data": {
      "text/plain": [
       "<matplotlib.lines.Line2D at 0x273cfd714e0>"
      ]
     },
     "execution_count": 36,
     "metadata": {},
     "output_type": "execute_result"
    },
    {
     "data": {
      "image/png": "[encoded data removed]",
      "text/plain": [
       "<Figure size 432x288 with 1 Axes>"
      ]
     },
     "metadata": {
      "needs_background": "light"
     },
     "output_type": "display_data"
    }
   ],
   "source": [
    "def exponential_function(x):\n",
    "    return 0.5 - np.exp(-x)\n",
    "\n",
    "x = np.linspace(0, 4, 100)\n",
    "y = exponential_function(x)\n",
    "plt.plot(x, y)\n",
    "plt.axhline(0, color='r', ls='--')"
   ]
  },
  {
   "cell_type": "markdown",
   "metadata": {},
   "source": [
    "### Implementation of the Bisection method\n",
    "We implement the bisection method as a function called `bisection` which takes as arguments:\n",
    "\n",
    "1. The function for which we want to find the root.\n",
    "2. $x_1$ and $x_2$\n",
    "3. The tolerance `tol` to be used as a stopping criterion (by default 0.001).\n",
    "4. The maximum number of iterations `nmax`. Make `nmax` a keyword argument with a default value of, for example, 10.\n",
    "\n",
    "Our function returns the value of $x$ where $f(x)$ is (approximately) zero, or print a warning if the maximum number of iterations is reached before the tolerance is met.\n",
    "\n",
    "Steps 2-5 of the algorithm explained above are implemented as a loop to be run until the tolerance level is met, at most `nmax` times. "
   ]
  },
  {
   "cell_type": "code",
   "execution_count": 38,
   "metadata": {},
   "outputs": [],
   "source": [
    "def bisection(func, x1, x2, tol=1e-3, nmax=10, silent=True):\n",
    "    f1 = func(x1)\n",
    "    f2 = func(x2)\n",
    "    assert f1 * f2< 0, 'Error: zero not in interval x1-x2'\n",
    "    for i in range(nmax):\n",
    "        ### START CODE HERE\n",
    "        xm = 0.5*(x1+x2)\n",
    "        if func(xm)*f2<0:\n",
    "            x1 = xm\n",
    "        else:\n",
    "            x2=xm\n",
    "        f1 = func(x1)\n",
    "        f2 = func(x2)\n",
    "        \n",
    "        ### END CODE HERE\n",
    "        if abs(x1 - x2) < tol:\n",
    "            break\n",
    "    if abs(func(x1)) > tol:\n",
    "        print('Maximum number of iterations reached')\n",
    "    return x1"
   ]
  },
  {
   "cell_type": "markdown",
   "metadata": {},
   "source": [
    "We use the `bisection` method to find the root of the $exponential function$ defined above  "
   ]
  },
  {
   "cell_type": "code",
   "execution_count": 40,
   "metadata": {},
   "outputs": [
    {
     "name": "stdout",
     "output_type": "stream",
     "text": [
      "The root of exponential_function between 0.00 and 1.00 is 0.693115\n",
      "The value of the function at the 'root' is -0.000016\n"
     ]
    }
   ],
   "source": [
    "x1 = 0 \n",
    "x2 = 1 \n",
    "function = exponential_function\n",
    "xzero = bisection(function, x1, x2, tol=1e-4, nmax=20, silent=True) \n",
    "print (\"The root of exponential_function between %.2f and %.2f is %f\" % (x1, x2, xzero))\n",
    "print (\"The value of the function at the 'root' is %f\" % exponential_function(xzero))"
   ]
  },
  {
   "cell_type": "markdown",
   "metadata": {},
   "source": [
    "and of $cos$  between 0 and 3."
   ]
  },
  {
   "cell_type": "code",
   "execution_count": 41,
   "metadata": {},
   "outputs": [
    {
     "name": "stdout",
     "output_type": "stream",
     "text": [
      "The root of cos between 0.00 and 3.00 is 1.570796\n"
     ]
    }
   ],
   "source": [
    "x1 = 0 \n",
    "x2 = 3 \n",
    "function = np.cos\n",
    "root = bisection(function, 0, 3, tol=1e-6, nmax=30)\n",
    "print (\"The root of cos between %.2f and %.2f is %f\" % (x1, x2, root))"
   ]
  },
  {
   "cell_type": "markdown",
   "metadata": {},
   "source": [
    "### Newton's method"
   ]
  },
  {
   "cell_type": "markdown",
   "metadata": {},
   "source": [
    "The Bisection method is a brute-force method guaranteed to find a root of a continuous function $f$ on an interval $(x_1,x_2)$, if $(x_1,x_2)$ contains a root for $f$. The Bisection method is not very efficient and it requires a search interval that contains only one root. \n",
    "\n",
    "An alternative is Newton's method (also called the Newton-Raphson method). Consider the graph below. To find the root of the function represented by the blue line, Newton's method starts at a user-defined starting location, $x_0$ (the blue dot) and fits a straight line through the point $(x,y)=(x_0,f(x_0))$ in such a way that the line is tangent to $f(x)$ at $x_0$ (the red line). The intersection of the red line with the horizontal axis is the next estimate $x_1$ of the root of the function (the red dot). This process is repeated until a value of $f(x)$ is found that is sufficiently close to zero (within a specified tolerance), i.e., a straight line is fitted through the point $(x,y)=(x_1,f(x_1))$, tangent to the function, and the the next estimate of the root of the function is taken as the intersection of this line with the horizontal axis, until the value of f at the root estimate is very close to 0.\n",
    "Unfortunately, not guaranteed that it always works, as is explained below. \n",
    "\n",
    "\n",
    "<img src=\"http://i.imgur.com/tK1EOtD.png\" alt=\"Newton's method on wikipedia\">\n",
    "\n",
    "The equation for a straight line with slope $a$ through the point $x_n,f(x_n)$ is:\n",
    "\n",
    "$$y = a(x-x_n) + f(x_n)$$\n",
    "\n",
    "For the line to be tangent to the function $f(x)$ at the point $x=x_n$, the slope $a$ has to equal the derivative of $f(x)$ at $x_n$: $a=f'(x_n)$. The intersection of the line with the horizontal axis is the value of $x$ that results in $y=0$ and this is the next estimate $x_{n+1}$ of the root of the function. In order to find this estimate we need to solve:\n",
    "\n",
    "$$0 = f'(x_n) (x_{n+1}-x_n) + f(x_n)$$\n",
    "\n",
    "which gives\n",
    "\n",
    "$$\\boxed{x_{n+1} = x_n - f(x_n)/f'(x_n)}$$\n",
    "\n",
    "The search for the root is completed when $|f(x)|$ is below a user-specified tolerance.\n",
    "\n",
    "An animated illustration of Newton's method can be found on Wikipedia:\n",
    "\n",
    "<img src=\"http://upload.wikimedia.org/wikipedia/commons/e/e0/NewtonIteration_Ani.gif\" alt=\"Newton's method on wikipedia\" width=\"400px\">"
   ]
  },
  {
   "cell_type": "markdown",
   "metadata": {},
   "source": [
    "Newton's method is guaranteed to find the root of a function if the function is *well behaved* and the search starts *close enough* to the root. If those two conditions are met, Newton's method is very fast, but if they are not met, the method is not guaranteed to converge to the root. \n",
    "\n",
    "Another disadvantage of Newton's method is that we need to define the derivative of the function. \n",
    "\n",
    "Note that the function value does not necessarily go down at every iteration (as illustated in the animation above)."
   ]
  },
  {
   "cell_type": "markdown",
   "metadata": {},
   "source": [
    "### Newton's Method Implementation \n",
    "We implement Newton's method as function `newtonsmethod` that takes in the following arguments:\n",
    "\n",
    "1. The function for which to find the root.\n",
    "2. The derivative of the function.\n",
    "3. The starting point of the search $x_0$.\n",
    "4. The tolerance `tol` used as a stopping criterion, by default $10^{-6}$.\n",
    "5. The maximum number of iterations `nmax`, by default 10.\n",
    "\n",
    "`newtonsmethod` returns the value of $x$ where $f(x)$ is (approximately) zero or prints a message if the maximum number of iterations is reached before the tolerance is met. \n"
   ]
  },
  {
   "cell_type": "code",
   "execution_count": 45,
   "metadata": {},
   "outputs": [],
   "source": [
    "def newtonsmethod(func, funcp, xs, tol=1e-6, nmax=10, silent=True):\n",
    "    \n",
    "    f = func(xs)\n",
    "    fp = funcp(xs)\n",
    "    for i in range(nmax):\n",
    "        ### START CODE HERE\n",
    "        f = func(xs)\n",
    "        fp = funcp(xs)\n",
    "        xs -= f/fp\n",
    "        \n",
    "        ### END CODE HERE\n",
    "        if silent is False: print(xs, func(xs))\n",
    "        if abs(f) < tol: \n",
    "            return (xs,i+1)\n",
    "            break\n",
    "    if abs(f) > tol:\n",
    "        #print('Max number of iterations reached before convergence')\n",
    "        return (None, -1)"
   ]
  },
  {
   "cell_type": "markdown",
   "metadata": {},
   "source": [
    "We test `newtonsmethod` by finding the root of $f(x)=\\frac{1}{2}-\\text{e}^{-x}$ using $x_0=1$ as the starting point of the search. How many iterations do we need if we start at $x=4$?"
   ]
  },
  {
   "cell_type": "code",
   "execution_count": 46,
   "metadata": {},
   "outputs": [
    {
     "name": "stdout",
     "output_type": "stream",
     "text": [
      "First Example\n",
      "Starting search from x = 1.00\n",
      "root at x = 0.693147, exponential_function(root) = -0.000000\n",
      "tolerance reached in 4 iterations\n",
      "\n",
      "Second Example\n",
      "Starting search from x = 4.00\n",
      "root at x = 0.693147, exponential_function(root) = 0.000000\n",
      "tolerance reached in 29 iterations\n"
     ]
    }
   ],
   "source": [
    "def fp(x):\n",
    "    return np.exp(-x)\n",
    "\n",
    "xs = 1\n",
    "func = exponential_function\n",
    "funcp = fp\n",
    "tol = 1e-6\n",
    "nmax = 10\n",
    "\n",
    "xzero, iterations = newtonsmethod(func, funcp, xs, tol, nmax)\n",
    "print(\"First Example\")\n",
    "if xzero != None:\n",
    "    print(\"Starting search from x = %.2f\" % xs)\n",
    "    print(\"root at x = %f, exponential_function(root) = %f\" % (xzero, exponential_function(xzero)))\n",
    "    print(\"tolerance reached in %d iterations\" % iterations)\n",
    "else: \n",
    "    print(\"Starting search from x = %.2f\" % xs)\n",
    "    print('Max number of iterations reached before convergence')\n",
    "\n",
    "print(\"\")\n",
    "\n",
    "   \n",
    "xs = 4\n",
    "nmax = 50\n",
    "\n",
    "xzero, iterations = newtonsmethod(func, funcp, xs, tol, nmax)\n",
    "\n",
    "print(\"Second Example\") \n",
    "if xzero != None:    \n",
    "    print(\"Starting search from x = %.2f\" % xs)\n",
    "    print(\"root at x = %f, exponential_function(root) = %f\" % (xzero, exponential_function(xzero)))\n",
    "    print(\"tolerance reached in %d iterations\" % iterations)\n",
    "else: \n",
    "    print(\"Starting search from x = %.2f\" % xs)\n",
    "    print('Max number of iterations reached before convergence')"
   ]
  },
  {
   "cell_type": "markdown",
   "metadata": {},
   "source": [
    "We also demonstrate how `newton` works by finding the zero of $\\sin(x)$, which has many roots: $-2\\pi$, $-\\pi$, $0$, $pi$, $2\\pi$, etc. Which root do we find when starting at $x=1$ and which root do we find when starting at $x=1.5$?"
   ]
  },
  {
   "cell_type": "code",
   "execution_count": 47,
   "metadata": {},
   "outputs": [
    {
     "name": "stdout",
     "output_type": "stream",
     "text": [
      "Starting search from x = 1.00\n",
      "root at x = 0.000000, sin(root) = 0.000000e+00\n",
      "tolerance reached in 5 iterations\n",
      "root / pi = 0.000000\n",
      "\n",
      "Starting search from x = 1.50\n",
      "root at x = -12.566371, sin(root) = 4.898587e-16\n",
      "tolerance reached in 4 iterations\n",
      "root / pi = -4.000000\n"
     ]
    }
   ],
   "source": [
    "xs = 1\n",
    "xzero, iterations = newtonsmethod(func=np.sin, funcp=np.cos, xs=1)\n",
    "if xzero != None:\n",
    "    print(\"Starting search from x = %.2f\" % xs)\n",
    "    print(\"root at x = %f, sin(root) = %e\" % (xzero, np.sin(xzero)))\n",
    "    print(\"tolerance reached in %d iterations\" % iterations)\n",
    "    print(\"root / pi = %f\" % (xzero / np.pi))\n",
    "else: \n",
    "    print(\"Starting search from x = %.2f\" % xs)\n",
    "    print('Max number of iterations reached before convergence')\n",
    "\n",
    "print(\"\")\n",
    "\n",
    "xs = 1.5\n",
    "xzero, iterations = newtonsmethod(func=np.sin, funcp=np.cos, xs=1.5)\n",
    "if xzero != None:    \n",
    "    print(\"Starting search from x = %.2f\" % xs)\n",
    "    print(\"root at x = %f, sin(root) = %e\" % (xzero, np.sin(xzero)))\n",
    "    print(\"tolerance reached in %d iterations\" % iterations)\n",
    "    print(\"root / pi = %f\" % (xzero / np.pi))\n",
    "else: \n",
    "    print(\"Starting search from x = %.2f\" % xs)\n",
    "    print('Max number of iterations reached before convergence')"
   ]
  },
  {
   "cell_type": "markdown",
   "metadata": {},
   "source": [
    "### Root finding methods in `scipy`\n",
    "The package `scipy.optimize` includes a number of routines for the minimization of a function and for finding the zeros of a function. Among them, `bisect`, `newton`, and `fsolve`. `fsolve` has the additional advantage of also estimating the derivative of the function. `fsolve` can be used to find an (approximate) answer for a system of non-linear equations."
   ]
  },
  {
   "cell_type": "markdown",
   "metadata": {},
   "source": [
    "###  `fsolve` \n",
    "We demonstrate how to use  the`fsolve` method of the `scipy.optimize` package by finding the value for which $\\ln(x^2)=2$ "
   ]
  },
  {
   "cell_type": "code",
   "execution_count": 3,
   "metadata": {},
   "outputs": [
    {
     "name": "stdout",
     "output_type": "stream",
     "text": [
      "x_root = 2.718282, function value(root) = -1.021405e-14\n"
     ]
    }
   ],
   "source": [
    "import numpy as np\n",
    "from scipy.optimize import fsolve\n",
    "def h(x):\n",
    "    return np.log(x ** 2) - 2\n",
    "\n",
    "x0 = fsolve(h, 1)\n",
    "print(\"x_root = %f, function value(root) = %e\" % (x0, h(x0)))"
   ]
  },
  {
   "cell_type": "markdown",
   "metadata": {},
   "source": [
    "### Plotting the root\n",
    "We plot the function $f(x)=x+2\\cos(x)$ for $x$ going from -2 to 4, and on the same graph, we also plot a red dot at the location where $f(x)=0$. "
   ]
  },
  {
   "cell_type": "code",
   "execution_count": 8,
   "metadata": {},
   "outputs": [
    {
     "data": {
      "text/plain": [
       "<matplotlib.lines.Line2D at 0x2075e586588>"
      ]
     },
     "execution_count": 8,
     "metadata": {},
     "output_type": "execute_result"
    },
    {
     "data": {
      "image/png": "[encoded data removed]",
      "text/plain": [
       "<Figure size 432x288 with 1 Axes>"
      ]
     },
     "metadata": {
      "needs_background": "light"
     },
     "output_type": "display_data"
    }
   ],
   "source": [
    "from scipy.optimize import fsolve\n",
    "import matplotlib.pyplot as plt\n",
    "\n",
    "def g(x):\n",
    "    return x + 2 * np.cos(x)\n",
    "\n",
    "x = np.linspace(-2, 4, 100)\n",
    "x0 = fsolve(g, 1)\n",
    "plt.plot(x, g(x))\n",
    "plt.plot(x0, g(x0), 'ro')\n",
    "plt.axhline(y=0, color='r', ls='--')\n"
   ]
  }
 ],
 "metadata": {
  "anaconda-cloud": {},
  "kernelspec": {
   "display_name": "Python 3",
   "language": "python",
   "name": "python3"
  },
  "language_info": {
   "codemirror_mode": {
    "name": "ipython",
    "version": 3
   },
   "file_extension": ".py",
   "mimetype": "text/x-python",
   "name": "python",
   "nbconvert_exporter": "python",
   "pygments_lexer": "ipython3",
   "version": "3.7.3"
  },
  "widgets": {
   "state": {},
   "version": "1.1.2"
  }
 },
 "nbformat": 4,
 "nbformat_minor": 1
}
